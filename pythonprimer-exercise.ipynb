{
  "nbformat": 4,
  "nbformat_minor": 0,
  "metadata": {
    "colab": {
      "name": "pythonprimer.ipynb",
      "provenance": [],
      "authorship_tag": "ABX9TyOLn7hNGB7Ua8KNdkbnBOw3",
      "include_colab_link": true
    },
    "kernelspec": {
      "name": "python3",
      "display_name": "Python 3"
    }
  },
  "cells": [
    {
      "cell_type": "markdown",
      "metadata": {
        "id": "view-in-github",
        "colab_type": "text"
      },
      "source": [
        "<a href=\"https://colab.research.google.com/github/eqanahmad/ds-algo-python/blob/main/pythonprimer-exercise.ipynb\" target=\"_parent\"><img src=\"https://colab.research.google.com/assets/colab-badge.svg\" alt=\"Open In Colab\"/></a>"
      ]
    },
    {
      "cell_type": "markdown",
      "metadata": {
        "id": "bIUvgsqSGbRa"
      },
      "source": [
        "R-1.1 Write a short Python function, is multiple(n, m), that takes two integer values and returns True if n is a multiple of m, that is, n = mi for some integer i, and False otherwise."
      ]
    },
    {
      "cell_type": "code",
      "metadata": {
        "id": "s7l2ObnWGWFX",
        "outputId": "7b0cbf8e-3180-4301-8cd2-ca1a64518add",
        "colab": {
          "base_uri": "https://localhost:8080/",
          "height": 34
        }
      },
      "source": [
        "def is_multiple(n, m):\n",
        "  if m == 0:\n",
        "    return False\n",
        "  else: \n",
        "    return (m%n ==0)\n",
        "\n",
        "# is_multiple(6,12)"
      ],
      "execution_count": null,
      "outputs": [
        {
          "output_type": "execute_result",
          "data": {
            "text/plain": [
              "True"
            ]
          },
          "metadata": {
            "tags": []
          },
          "execution_count": 10
        }
      ]
    },
    {
      "cell_type": "markdown",
      "metadata": {
        "id": "-LQHDV4JOESm"
      },
      "source": [
        "R-1.2 Write a short Python function, is even(k), that takes an integer value and returns True if k is even, and False otherwise. However, your function cannot use the multiplication, modulo, or division operators."
      ]
    },
    {
      "cell_type": "code",
      "metadata": {
        "id": "8Xj1XT4_OF2r",
        "outputId": "fa12473c-b3d0-4c5a-b762-cb9d1d7df195",
        "colab": {
          "base_uri": "https://localhost:8080/",
          "height": 34
        }
      },
      "source": [
        "def is_even(k):\n",
        "  return (k&1 == 0)\n",
        "# is_even(8)"
      ],
      "execution_count": null,
      "outputs": [
        {
          "output_type": "execute_result",
          "data": {
            "text/plain": [
              "True"
            ]
          },
          "metadata": {
            "tags": []
          },
          "execution_count": 3
        }
      ]
    },
    {
      "cell_type": "markdown",
      "metadata": {
        "id": "VmIi4BM6iylT"
      },
      "source": [
        "R-1.3 Write a short Python function, minmax(data), that takes a sequence of one or more numbers, and returns the smallest and largest numbers, in the form of a tuple of length two. Do not use the built-in functions min or max in implementing your solution."
      ]
    },
    {
      "cell_type": "code",
      "metadata": {
        "id": "7InoisFwiocB",
        "outputId": "fb4a3387-817f-4876-e56a-3e993e391fb0",
        "colab": {
          "base_uri": "https://localhost:8080/",
          "height": 34
        }
      },
      "source": [
        "def minmax(data):\n",
        "  return (data[0], data[-1])\n",
        "\n",
        "\n",
        "x = [1,2,3,4,5,6,7,8,9]\n",
        "minmax(x)"
      ],
      "execution_count": null,
      "outputs": [
        {
          "output_type": "execute_result",
          "data": {
            "text/plain": [
              "(1, 9)"
            ]
          },
          "metadata": {
            "tags": []
          },
          "execution_count": 5
        }
      ]
    },
    {
      "cell_type": "markdown",
      "metadata": {
        "id": "Irl0tFBtjzQ7"
      },
      "source": [
        "R-1.4 Write a short Python function that takes a positive integer n and returns the sum of the squares of all the positive integers smaller than n."
      ]
    },
    {
      "cell_type": "code",
      "metadata": {
        "id": "Hq6K4EnJj5WS",
        "outputId": "2c3ce020-fbeb-4808-a2fe-0d804bed0d61",
        "colab": {
          "base_uri": "https://localhost:8080/",
          "height": 34
        }
      },
      "source": [
        "def sum_of_squares(n):\n",
        "  sum = 0\n",
        "  for i in range(n):\n",
        "    sum+= i**i\n",
        "  return sum\n",
        "\n",
        "sum_of_squares(3)"
      ],
      "execution_count": null,
      "outputs": [
        {
          "output_type": "execute_result",
          "data": {
            "text/plain": [
              "6"
            ]
          },
          "metadata": {
            "tags": []
          },
          "execution_count": 9
        }
      ]
    },
    {
      "cell_type": "markdown",
      "metadata": {
        "id": "oSs8W1Gtk5gy"
      },
      "source": [
        "R-1.5 Give a single command that computes the sum from Exercise R-1.4, rely- ing on Python’s comprehension syntax and the built-in sum function."
      ]
    },
    {
      "cell_type": "code",
      "metadata": {
        "id": "7CA_WQHClJzz"
      },
      "source": [
        "def sum_of_squares(n):\n",
        "  return sum([i*i for i in range(0,n)])\n",
        "\n",
        "sum_of_squares(4)"
      ],
      "execution_count": null,
      "outputs": []
    },
    {
      "cell_type": "markdown",
      "metadata": {
        "id": "e6Y7PFOVlCdw"
      },
      "source": [
        "R-1.6 Write a short Python function that takes a positive integer n and returns the sum of the squares of all the odd positive integers smaller than n."
      ]
    },
    {
      "cell_type": "code",
      "metadata": {
        "id": "MuXFldxtmBr9",
        "outputId": "5b010b5c-a5a1-42e9-9acd-e855cb5e18b3",
        "colab": {
          "base_uri": "https://localhost:8080/",
          "height": 34
        }
      },
      "source": [
        "def sum_of_squares_odd(n):\n",
        "  sum = 0 \n",
        "  for i in range(n):\n",
        "    if i%2 != 0:\n",
        "      sum+= i*i\n",
        "  return sum\n",
        "\n",
        "sum_of_squares_odd(4)"
      ],
      "execution_count": null,
      "outputs": [
        {
          "output_type": "execute_result",
          "data": {
            "text/plain": [
              "10"
            ]
          },
          "metadata": {
            "tags": []
          },
          "execution_count": 17
        }
      ]
    },
    {
      "cell_type": "markdown",
      "metadata": {
        "id": "KukzEPdamdOO"
      },
      "source": [
        "R-1.7 Give a single command that computes the sum from Exercise R-1.6, rely- ing on Python’s comprehension syntax and the built-in sum function."
      ]
    },
    {
      "cell_type": "code",
      "metadata": {
        "id": "CfUq1ArmmKtW"
      },
      "source": [
        "def sum_of_squares_odd(n):\n",
        "  return sum([i*i for i in range(n) if i % 2 != 0 ])\n",
        "sum_of_squares_odd(4)"
      ],
      "execution_count": null,
      "outputs": []
    },
    {
      "cell_type": "markdown",
      "metadata": {
        "id": "FPMdKGq8oZYu"
      },
      "source": [
        "\n",
        "R-1.8 Python allows negative integers to be used as indices into a sequence, such as a string. If string s has length n, and expression s[k] is used for in- dex −n ≤ k < 0, what is the equivalent index j ≥ 0 such that s[j] references the same element?"
      ]
    },
    {
      "cell_type": "code",
      "metadata": {
        "id": "OwxQNL0Io9lk"
      },
      "source": [
        "s = 'string'\n",
        "\n",
        "print(s[-1])\n",
        "print(s[len(s)-1])"
      ],
      "execution_count": null,
      "outputs": []
    },
    {
      "cell_type": "markdown",
      "metadata": {
        "id": "lz7OE1X0qOG2"
      },
      "source": [
        "R-1.9 What parameters should be sent to the range constructor, to produce a range with values 50, 60, 70, 80?"
      ]
    },
    {
      "cell_type": "code",
      "metadata": {
        "id": "P1xWFpVDqRqD"
      },
      "source": [
        "for i in range(50,80, 10):\n",
        "  print(i) "
      ],
      "execution_count": null,
      "outputs": []
    },
    {
      "cell_type": "markdown",
      "metadata": {
        "id": "q9De3sa-qfkG"
      },
      "source": [
        "R-1.10 What parameters should be sent to the range constructor, to produce a range with values 8, 6, 4, 2, 0, −2, −4, −6, −8?"
      ]
    },
    {
      "cell_type": "code",
      "metadata": {
        "id": "NzVGoKiVqddo"
      },
      "source": [
        "for i in range(8,-8,-2):\n",
        "  print(i)\n"
      ],
      "execution_count": null,
      "outputs": []
    },
    {
      "cell_type": "markdown",
      "metadata": {
        "id": "_fdJUKWBq4_3"
      },
      "source": [
        "R-1.11 Demonstrate how to use Python’s list comprehension syntax to produce the list [1, 2, 4, 8, 16, 32, 64, 128, 256]."
      ]
    },
    {
      "cell_type": "code",
      "metadata": {
        "id": "nH2nOcXVq7NU",
        "outputId": "83eca53c-06bd-47e1-a929-0be6ac605993",
        "colab": {
          "base_uri": "https://localhost:8080/",
          "height": 34
        }
      },
      "source": [
        "#do this lol"
      ],
      "execution_count": null,
      "outputs": [
        {
          "output_type": "execute_result",
          "data": {
            "text/plain": [
              "[2, 4, 8, 16]"
            ]
          },
          "metadata": {
            "tags": []
          },
          "execution_count": 30
        }
      ]
    },
    {
      "cell_type": "markdown",
      "metadata": {
        "id": "WSTNr-_js6Bf"
      },
      "source": [
        "R-1.12 Python’s random module includes a function choice(data) that returns a random element from a non-empty sequence. The random module in- cludes a more basic function randrange, with parameterization similar to the built-in range function, that return a random choice from the given range. Using only the randrange function, implement your own version of the choice function."
      ]
    },
    {
      "cell_type": "code",
      "metadata": {
        "id": "MqVi4jfts-8B"
      },
      "source": [
        "import random\n",
        "def my_choice(data):\n",
        "  length = len(data)\n",
        "  choice = random.randrange(0,length,1)\n",
        "  return data[choice]\n",
        "\n",
        "print(my_choice(\"I love to code LMAO\"))\n",
        "print(my_choice([1,2,3,6,7,8,3,4]))\n",
        "print(my_choice((2,3)))"
      ],
      "execution_count": null,
      "outputs": []
    }
  ]
}